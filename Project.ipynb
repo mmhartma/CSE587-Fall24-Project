{
 "cells": [
  {
   "cell_type": "code",
   "execution_count": 55,
   "metadata": {},
   "outputs": [
    {
     "name": "stdout",
     "output_type": "stream",
     "text": [
      "Defaulting to user installation because normal site-packages is not writeable\n",
      "Requirement already satisfied: requests in c:\\users\\into4\\appdata\\roaming\\python\\python39\\site-packages (2.32.3)\n",
      "Requirement already satisfied: charset-normalizer<4,>=2 in c:\\users\\into4\\appdata\\roaming\\python\\python39\\site-packages (from requests) (3.3.2)\n",
      "Requirement already satisfied: urllib3<3,>=1.21.1 in c:\\users\\into4\\appdata\\roaming\\python\\python39\\site-packages (from requests) (2.2.3)\n",
      "Requirement already satisfied: idna<4,>=2.5 in c:\\users\\into4\\appdata\\roaming\\python\\python39\\site-packages (from requests) (3.10)\n",
      "Requirement already satisfied: certifi>=2017.4.17 in c:\\users\\into4\\appdata\\roaming\\python\\python39\\site-packages (from requests) (2024.8.30)\n",
      "Note: you may need to restart the kernel to use updated packages.\n"
     ]
    },
    {
     "name": "stderr",
     "output_type": "stream",
     "text": [
      "WARNING: You are using pip version 22.0.4; however, version 24.2 is available.\n",
      "You should consider upgrading via the 'c:\\Program Files (x86)\\Microsoft Visual Studio\\Shared\\Python39_64\\python.exe -m pip install --upgrade pip' command.\n"
     ]
    },
    {
     "name": "stdout",
     "output_type": "stream",
     "text": [
      "Defaulting to user installation because normal site-packages is not writeable\n",
      "Collecting pandas\n",
      "  Downloading pandas-2.2.3-cp39-cp39-win_amd64.whl (11.6 MB)\n",
      "     --------------------------------------- 11.6/11.6 MB 54.7 MB/s eta 0:00:00\n",
      "Collecting tzdata>=2022.7\n",
      "  Downloading tzdata-2024.2-py2.py3-none-any.whl (346 kB)\n",
      "     ------------------------------------- 346.6/346.6 KB 22.4 MB/s eta 0:00:00\n",
      "Requirement already satisfied: python-dateutil>=2.8.2 in c:\\users\\into4\\appdata\\roaming\\python\\python39\\site-packages (from pandas) (2.9.0.post0)\n",
      "Collecting numpy>=1.22.4\n",
      "  Downloading numpy-2.0.2-cp39-cp39-win_amd64.whl (15.9 MB)\n",
      "     --------------------------------------- 15.9/15.9 MB 54.5 MB/s eta 0:00:00\n",
      "Collecting pytz>=2020.1\n",
      "  Downloading pytz-2024.2-py2.py3-none-any.whl (508 kB)\n",
      "     ------------------------------------- 508.0/508.0 KB 31.1 MB/s eta 0:00:00\n",
      "Requirement already satisfied: six>=1.5 in c:\\users\\into4\\appdata\\roaming\\python\\python39\\site-packages (from python-dateutil>=2.8.2->pandas) (1.16.0)\n",
      "Installing collected packages: pytz, tzdata, numpy, pandas\n",
      "Successfully installed numpy-2.0.2 pandas-2.2.3 pytz-2024.2 tzdata-2024.2\n",
      "Note: you may need to restart the kernel to use updated packages.\n"
     ]
    },
    {
     "name": "stderr",
     "output_type": "stream",
     "text": [
      "WARNING: You are using pip version 22.0.4; however, version 24.2 is available.\n",
      "You should consider upgrading via the 'c:\\Program Files (x86)\\Microsoft Visual Studio\\Shared\\Python39_64\\python.exe -m pip install --upgrade pip' command.\n"
     ]
    }
   ],
   "source": [
    "# if a module import does not work, use below\n",
    "%pip install requests\n",
    "%pip install pandas"
   ]
  },
  {
   "cell_type": "markdown",
   "metadata": {},
   "source": [
    "# CSE587 Project\n",
    "\n",
    "Saagnik Sarbadhikari, 50592327\n",
    "\n",
    "Marcus Hartman, 50398874\n",
    "\n",
    "Bharath Reddy, 50563984\n",
    "\n",
    "# Forecasting the Rental Housing Economy of Various Areas Using Machine Learning"
   ]
  },
  {
   "cell_type": "markdown",
   "metadata": {},
   "source": [
    "Data Retrieval"
   ]
  },
  {
   "cell_type": "code",
   "execution_count": 56,
   "metadata": {},
   "outputs": [],
   "source": [
    "import json\n",
    "import requests\n",
    "import pandas"
   ]
  },
  {
   "cell_type": "code",
   "execution_count": null,
   "metadata": {},
   "outputs": [],
   "source": [
    "# saag"
   ]
  },
  {
   "cell_type": "code",
   "execution_count": 58,
   "metadata": {},
   "outputs": [
    {
     "name": "stdout",
     "output_type": "stream",
     "text": [
      "<class 'pandas.core.frame.DataFrame'>\n",
      "RangeIndex: 664 entries, 0 to 663\n",
      "Columns: 121 entries, RegionID to 2024-08-31\n",
      "dtypes: float64(116), int64(2), object(3)\n",
      "memory usage: 627.8+ KB\n"
     ]
    }
   ],
   "source": [
    "# Marcus' data\n",
    "\n",
    "# huduser.gov\n",
    "huduser_key = open('tokens/huduser').readline()\n",
    "\n",
    "huduser_MN = requests.get(\"https://www.huduser.gov/hudapi/public/fmr/statedata/MN\", headers={\"Authorization\": f\"Bearer {huduser_key}\"}).json()\n",
    "\n",
    "huduser_TX = requests.get(\"https://www.huduser.gov/hudapi/public/fmr/statedata/TX\", headers={\"Authorization\": f\"Bearer {huduser_key}\"}).json()\n",
    "\n",
    "\n",
    "# zillow.com\n",
    "zillow_rentals = pandas.read_csv(\"https://files.zillowstatic.com/research/public_csvs/zori/Metro_zori_uc_sfrcondomfr_sm_month.csv?t=1728278819\")\n",
    "# this is home values forecasts, not rentals. but still poses significance \n",
    "zillow_forecasts = pandas.read_csv(\"https://files.zillowstatic.com/research/public_csvs/zhvf_growth/Metro_zhvf_growth_uc_sfrcondo_tier_0.33_0.67_sm_sa_month.csv?t=1728278819\")\n",
    "\n",
    "\n",
    "# rentcast.io\n",
    "# NOTE: any request using the API key will accumulate towards the monthly limit (31). please do not go over this\n",
    "\n",
    "# the commented out part uses the API key you put into tokens/rentcast (req. credit card info). \n",
    "# the service is free but still requires credit card info-- if you find something better use it. update latex and make a little note next to it and we're all good\n",
    "# rentcast_key = open('tokens/rentcast').readline()\n",
    "\n",
    "# rentcast_TX = requests.get(\"https://api.rentcast.io/v1/listings/rental/long-term?state=TX\", headers={\"accept\": \"application/json\", \"X-Api-Key\": rentcast_key})\n",
    "# f = open(\"results/rentcast_TX\", \"w\")\n",
    "# f.write(json.dumps(rentcast_TX.json()))\n",
    "# f.close()\n",
    "\n",
    "# rentcast_MN = requests.get(\"https://api.rentcast.io/v1/listings/rental/long-term?state=MN\", headers={\"accept\": \"application/json\", \"X-Api-Key\": rentcast_key})\n",
    "# f = open(\"results/rentcast_MN\", \"w\")\n",
    "# f.write(json.dumps(rentcast_MN.json()))\n",
    "# f.close()\n",
    "\n",
    "# loads data stored from api calls above. costs money if we go above 31 calls / month\n",
    "rentcast_TX = json.loads(open('results/rentcast_TX').readline())\n",
    "rentcast_MN = json.loads(open('results/rentcast_MN').readline())\n"
   ]
  },
  {
   "cell_type": "code",
   "execution_count": null,
   "metadata": {},
   "outputs": [],
   "source": [
    "# bharath"
   ]
  },
  {
   "cell_type": "markdown",
   "metadata": {},
   "source": [
    "Data Cleaning"
   ]
  },
  {
   "cell_type": "code",
   "execution_count": null,
   "metadata": {},
   "outputs": [],
   "source": [
    "# need 10 different cleaning operations for all of our sources\n"
   ]
  },
  {
   "cell_type": "markdown",
   "metadata": {},
   "source": [
    "EDA"
   ]
  },
  {
   "cell_type": "code",
   "execution_count": null,
   "metadata": {},
   "outputs": [],
   "source": [
    "# saag"
   ]
  },
  {
   "cell_type": "code",
   "execution_count": null,
   "metadata": {},
   "outputs": [],
   "source": [
    "# marcus"
   ]
  },
  {
   "cell_type": "code",
   "execution_count": null,
   "metadata": {},
   "outputs": [],
   "source": [
    "# bharath"
   ]
  }
 ],
 "metadata": {
  "kernelspec": {
   "display_name": "Python 3",
   "language": "python",
   "name": "python3"
  },
  "language_info": {
   "codemirror_mode": {
    "name": "ipython",
    "version": 3
   },
   "file_extension": ".py",
   "mimetype": "text/x-python",
   "name": "python",
   "nbconvert_exporter": "python",
   "pygments_lexer": "ipython3",
   "version": "3.9.13"
  }
 },
 "nbformat": 4,
 "nbformat_minor": 2
}
