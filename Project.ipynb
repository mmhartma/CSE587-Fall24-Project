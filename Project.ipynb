{
 "cells": [
  {
   "cell_type": "code",
   "execution_count": 2,
   "metadata": {},
   "outputs": [
    {
     "name": "stdout",
     "output_type": "stream",
     "text": [
      "Defaulting to user installation because normal site-packages is not writeable\n",
      "Requirement already satisfied: requests in c:\\users\\into4\\appdata\\roaming\\python\\python39\\site-packages (2.32.3)\n",
      "Requirement already satisfied: certifi>=2017.4.17 in c:\\users\\into4\\appdata\\roaming\\python\\python39\\site-packages (from requests) (2024.8.30)\n",
      "Requirement already satisfied: idna<4,>=2.5 in c:\\users\\into4\\appdata\\roaming\\python\\python39\\site-packages (from requests) (3.10)\n",
      "Requirement already satisfied: urllib3<3,>=1.21.1 in c:\\users\\into4\\appdata\\roaming\\python\\python39\\site-packages (from requests) (2.2.3)\n",
      "Requirement already satisfied: charset-normalizer<4,>=2 in c:\\users\\into4\\appdata\\roaming\\python\\python39\\site-packages (from requests) (3.3.2)\n",
      "Note: you may need to restart the kernel to use updated packages.\n"
     ]
    },
    {
     "name": "stderr",
     "output_type": "stream",
     "text": [
      "WARNING: You are using pip version 22.0.4; however, version 24.2 is available.\n",
      "You should consider upgrading via the 'c:\\Program Files (x86)\\Microsoft Visual Studio\\Shared\\Python39_64\\python.exe -m pip install --upgrade pip' command.\n"
     ]
    },
    {
     "name": "stdout",
     "output_type": "stream",
     "text": [
      "Defaulting to user installation because normal site-packages is not writeable\n",
      "Requirement already satisfied: pandas in c:\\users\\into4\\appdata\\roaming\\python\\python39\\site-packages (2.2.3)\n",
      "Requirement already satisfied: numpy>=1.22.4 in c:\\users\\into4\\appdata\\roaming\\python\\python39\\site-packages (from pandas) (2.0.2)\n",
      "Requirement already satisfied: tzdata>=2022.7 in c:\\users\\into4\\appdata\\roaming\\python\\python39\\site-packages (from pandas) (2024.2)\n",
      "Requirement already satisfied: pytz>=2020.1 in c:\\users\\into4\\appdata\\roaming\\python\\python39\\site-packages (from pandas) (2024.2)\n",
      "Requirement already satisfied: python-dateutil>=2.8.2 in c:\\users\\into4\\appdata\\roaming\\python\\python39\\site-packages (from pandas) (2.9.0.post0)\n",
      "Requirement already satisfied: six>=1.5 in c:\\users\\into4\\appdata\\roaming\\python\\python39\\site-packages (from python-dateutil>=2.8.2->pandas) (1.16.0)\n",
      "Note: you may need to restart the kernel to use updated packages.\n"
     ]
    },
    {
     "name": "stderr",
     "output_type": "stream",
     "text": [
      "WARNING: You are using pip version 22.0.4; however, version 24.2 is available.\n",
      "You should consider upgrading via the 'c:\\Program Files (x86)\\Microsoft Visual Studio\\Shared\\Python39_64\\python.exe -m pip install --upgrade pip' command.\n"
     ]
    }
   ],
   "source": [
    "# if a module import does not work, use below\n",
    "%pip install requests\n",
    "%pip install pandas"
   ]
  },
  {
   "cell_type": "markdown",
   "metadata": {},
   "source": [
    "# CSE587 Project\n",
    "\n",
    "Saagnik Sarbadhikari, 50592327\n",
    "\n",
    "Marcus Hartman, 50398874\n",
    "\n",
    "Bharath Reddy, 50563984\n",
    "\n",
    "# Forecasting the Rental Housing Economy of Various Areas Using Machine Learning"
   ]
  },
  {
   "cell_type": "markdown",
   "metadata": {},
   "source": [
    "Data Retrieval"
   ]
  },
  {
   "cell_type": "code",
   "execution_count": 3,
   "metadata": {},
   "outputs": [],
   "source": [
    "import json\n",
    "import requests\n",
    "import pandas"
   ]
  },
  {
   "cell_type": "code",
   "execution_count": 4,
   "metadata": {},
   "outputs": [],
   "source": [
    "# saag"
   ]
  },
  {
   "cell_type": "code",
   "execution_count": 65,
   "metadata": {},
   "outputs": [],
   "source": [
    "# Marcus' data\n",
    "\n",
    "# huduser.gov\n",
    "huduser_key = open('tokens/huduser').readline()\n",
    "\n",
    "huduser_MN = requests.get(\"https://www.huduser.gov/hudapi/public/fmr/statedata/MN\", headers={\"Authorization\": f\"Bearer {huduser_key}\"}).json()\n",
    "\n",
    "huduser_TX = requests.get(\"https://www.huduser.gov/hudapi/public/fmr/statedata/TX\", headers={\"Authorization\": f\"Bearer {huduser_key}\"}).json()\n",
    "\n",
    "# zillow.com\n",
    "zillow_rentals = pandas.read_csv(\"https://files.zillowstatic.com/research/public_csvs/zori/Metro_zori_uc_sfrcondomfr_sm_month.csv?t=1728278819\")\n",
    "# this is home values forecasts, not rentals. but still poses significance \n",
    "zillow_forecasts = pandas.read_csv(\"https://files.zillowstatic.com/research/public_csvs/zhvf_growth/Metro_zhvf_growth_uc_sfrcondo_tier_0.33_0.67_sm_sa_month.csv?t=1728278819\")\n",
    "\n",
    "\n",
    "# rentcast.io\n",
    "# NOTE: any request using the API key will accumulate towards the monthly limit (31). please do not go over this\n",
    "\n",
    "# the commented out part uses the API key you put into tokens/rentcast (req. credit card info). \n",
    "# the service is free but still requires credit card info-- if you find something better use it. update latex and make a little note next to it and we're all good\n",
    "# rentcast_key = open('tokens/rentcast').readline()\n",
    "\n",
    "# rentcast_TX = requests.get(\"https://api.rentcast.io/v1/listings/rental/long-term?state=TX\", headers={\"accept\": \"application/json\", \"X-Api-Key\": rentcast_key})\n",
    "# f = open(\"results/rentcast_TX\", \"w\")\n",
    "# f.write(json.dumps(rentcast_TX.json()))\n",
    "# f.close()\n",
    "\n",
    "# rentcast_MN = requests.get(\"https://api.rentcast.io/v1/listings/rental/long-term?state=MN\", headers={\"accept\": \"application/json\", \"X-Api-Key\": rentcast_key})\n",
    "# f = open(\"results/rentcast_MN\", \"w\")\n",
    "# f.write(json.dumps(rentcast_MN.json()))\n",
    "# f.close()\n",
    "\n",
    "# loads data stored from api calls above. costs money if we go above 31 calls / month\n",
    "rentcast_TX = json.loads(open('results/rentcast_TX').readline())\n",
    "rentcast_MN = json.loads(open('results/rentcast_MN').readline())\n"
   ]
  },
  {
   "cell_type": "code",
   "execution_count": 25,
   "metadata": {},
   "outputs": [],
   "source": [
    "# bharath"
   ]
  },
  {
   "cell_type": "markdown",
   "metadata": {},
   "source": [
    "Data Cleaning"
   ]
  },
  {
   "cell_type": "code",
   "execution_count": 72,
   "metadata": {},
   "outputs": [],
   "source": [
    "# need 10 different cleaning operations for all of our sources\n",
    "\n",
    "# 1. cleaning hudusers\n",
    "def cleanCounties(countyInfo):\n",
    "    getRidRows = ['town_name', 'metro_name', 'fips_code', 'FMR Percentile', 'metro_name', 'statename', 'statecode', 'smallarea_status']\n",
    "    \n",
    "    for county in countyInfo:\n",
    "        for n in getRidRows:\n",
    "            if n in county:\n",
    "                county.pop(n)\n",
    "        \n",
    "    return countyInfo\n",
    "\n",
    "\n",
    "countyInfo_MN = cleanCounties(huduser_MN['data']['counties'])\n",
    "countyInfo_TX = cleanCounties(huduser_MN['data']['counties'])\n",
    "\n",
    "#2. Zillow rentals: drop unnecessary columns\n",
    "zillow_rentals.drop([\"RegionID\", \"SizeRank\", \"RegionType\"], axis=1, inplace=True, errors='ignore')\n",
    "\n",
    "#3. Zillow rentals: drop all that aren't for MN, TX\n",
    "zillowRentals_MN = zillow_rentals.query('RegionName.str.contains(\"MN\")')\n",
    "zillowRentals_TX = zillow_rentals.query('RegionName.str.contains(\"TX\")')\n",
    "\n",
    "#4. Zillow forecasts: drop unnecessary columns\n",
    "zillow_forecasts.drop([\"RegionID\", \"SizeRank\", \"RegionType\", \"BaseDate\"], axis=1, inplace=True, errors='ignore')\n",
    "\n",
    "#5. Zillow forecasts: drop all that aren't for MN, TX\n",
    "zillowForecasts_MN = zillow_forecasts.query('StateName == \"MN\"')\n",
    "zillowForecasts_TX = zillow_forecasts.query('StateName == \"TX\"')\n",
    "\n"
   ]
  },
  {
   "cell_type": "markdown",
   "metadata": {},
   "source": [
    "EDA"
   ]
  },
  {
   "cell_type": "code",
   "execution_count": 8,
   "metadata": {},
   "outputs": [],
   "source": [
    "# saag"
   ]
  },
  {
   "cell_type": "code",
   "execution_count": 9,
   "metadata": {},
   "outputs": [],
   "source": [
    "# marcus"
   ]
  },
  {
   "cell_type": "code",
   "execution_count": 10,
   "metadata": {},
   "outputs": [],
   "source": [
    "# bharath"
   ]
  }
 ],
 "metadata": {
  "kernelspec": {
   "display_name": "Python 3",
   "language": "python",
   "name": "python3"
  },
  "language_info": {
   "codemirror_mode": {
    "name": "ipython",
    "version": 3
   },
   "file_extension": ".py",
   "mimetype": "text/x-python",
   "name": "python",
   "nbconvert_exporter": "python",
   "pygments_lexer": "ipython3",
   "version": "3.9.13"
  }
 },
 "nbformat": 4,
 "nbformat_minor": 2
}
